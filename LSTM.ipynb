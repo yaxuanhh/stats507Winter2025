{
 "cells": [
  {
   "cell_type": "markdown",
   "id": "32719689-b98b-4ab9-bfe5-31a1ebb9f952",
   "metadata": {},
   "source": [
    "## Sentiment Analysis using LSTM"
   ]
  },
  {
   "cell_type": "code",
   "execution_count": 28,
   "id": "2362151d-0ca1-4212-a398-bf680914a374",
   "metadata": {},
   "outputs": [],
   "source": [
    "import pandas as pd\n",
    "import numpy as np\n",
    "import seaborn as sns\n",
    "import matplotlib.pyplot as plt\n",
    "import re\n",
    "import nltk\n",
    "from nltk.corpus import stopwords\n",
    "from sklearn.preprocessing import LabelEncoder\n",
    "from sklearn.model_selection import train_test_split\n",
    "from tensorflow.keras.utils import to_categorical\n",
    "import tensorflow as tf\n",
    "from tensorflow.keras.models import Sequential\n",
    "from tensorflow.keras.layers import Embedding, LSTM, Dense\n",
    "from tensorflow.keras.preprocessing.text import Tokenizer\n",
    "from tensorflow.keras.preprocessing.sequence import pad_sequences\n",
    "from sklearn.metrics import classification_report"
   ]
  },
  {
   "cell_type": "code",
   "execution_count": 29,
   "id": "63d65c7e-027a-4a7c-aaaf-02df56eee310",
   "metadata": {},
   "outputs": [
    {
     "name": "stdout",
     "output_type": "stream",
     "text": [
      "   id                                          statement   status\n",
      "0   0                                         oh my gosh  Anxiety\n",
      "1   1  trouble sleeping, confused mind, restless hear...  Anxiety\n",
      "2   2  All wrong, back off dear, forward doubt. Stay ...  Anxiety\n",
      "3   3  I've shifted my focus to something else but I'...  Anxiety\n",
      "4   4  I'm restless and restless, it's been a month n...  Anxiety\n"
     ]
    }
   ],
   "source": [
    "df = pd.read_csv(\"hf://datasets/AhmedSSoliman/sentiment-analysis-for-mental-health-Combined-Data/sentiment-analysis-for-mental-health-Combined Data.csv\")\n",
    "df.columns.values[0] = \"id\" \n",
    "df = df.dropna(subset=[\"statement\"])\n",
    "\n",
    "print(df.head())"
   ]
  },
  {
   "cell_type": "markdown",
   "id": "44f70975-13d7-43e1-8e65-3d5a023e1304",
   "metadata": {},
   "source": [
    "### Preprocess the status"
   ]
  },
  {
   "cell_type": "code",
   "execution_count": 30,
   "id": "32505cec-cbb1-4f61-8d09-533f04a4714d",
   "metadata": {},
   "outputs": [],
   "source": [
    "le = LabelEncoder()\n",
    "df['labeled_status'] = le.fit_transform(df['status'])  "
   ]
  },
  {
   "cell_type": "markdown",
   "id": "11b27aa0-4abf-482b-ab75-d21d92411901",
   "metadata": {},
   "source": [
    "### Preprocess the text data"
   ]
  },
  {
   "cell_type": "code",
   "execution_count": 31,
   "id": "38876785-d3de-4cc2-8dd9-ce2d2992ff2a",
   "metadata": {},
   "outputs": [
    {
     "name": "stderr",
     "output_type": "stream",
     "text": [
      "[nltk_data] Downloading package stopwords to\n",
      "[nltk_data]     /Users/yaxuanhuang/nltk_data...\n",
      "[nltk_data]   Package stopwords is already up-to-date!\n"
     ]
    }
   ],
   "source": [
    "nltk.download(\"stopwords\")\n",
    "stop_words = set(stopwords.words(\"english\"))\n",
    "\n",
    "def preprocess_text(text):\n",
    "    text = text.lower()  \n",
    "    text = re.sub(r\"http\\S+\", \"\", text)  \n",
    "    text = re.sub(r\"[^a-zA-Z\\s]\", \"\", text)  \n",
    "    text = \" \".join([word for word in text.split() if word not in stop_words])  \n",
    "    return text\n",
    "\n",
    "df[\"cleaned_text\"] = df[\"statement\"].apply(preprocess_text)  "
   ]
  },
  {
   "cell_type": "code",
   "execution_count": 32,
   "id": "c14fd99b-fba9-40f3-b947-8945b1f6051c",
   "metadata": {},
   "outputs": [],
   "source": [
    "X = df[\"cleaned_text\"]\n",
    "y = df[\"labeled_status\"]\n",
    "\n",
    "X_train, X_test, y_train, y_test = train_test_split(X, y, test_size=0.2, random_state=42)\n",
    "\n",
    "vocab_size = 5000\n",
    "embedding_dim = 200\n",
    "max_length = 200\n",
    "\n",
    "tokenizer = Tokenizer(num_words=vocab_size)\n",
    "tokenizer.fit_on_texts(X_train)\n",
    "\n",
    "X_train_seq = pad_sequences(tokenizer.texts_to_sequences(X_train), maxlen=max_length)\n",
    "X_test_seq = pad_sequences(tokenizer.texts_to_sequences(X_test), maxlen=max_length)\n",
    "\n",
    "y_train_onehot = to_categorical(y_train, num_classes=7)\n",
    "y_test_onehot = to_categorical(y_test, num_classes=7)"
   ]
  },
  {
   "cell_type": "markdown",
   "id": "33b0bb97-7af4-46b9-9c73-053ed38ac235",
   "metadata": {},
   "source": [
    "### Implement the LSTM"
   ]
  },
  {
   "cell_type": "code",
   "execution_count": 33,
   "id": "c643a81e-996b-4d37-bdb0-5982f80fd0de",
   "metadata": {},
   "outputs": [
    {
     "name": "stdout",
     "output_type": "stream",
     "text": [
      "Epoch 1/5\n"
     ]
    },
    {
     "name": "stderr",
     "output_type": "stream",
     "text": [
      "/opt/anaconda3/lib/python3.12/site-packages/keras/src/layers/core/embedding.py:90: UserWarning: Argument `input_length` is deprecated. Just remove it.\n",
      "  warnings.warn(\n"
     ]
    },
    {
     "name": "stdout",
     "output_type": "stream",
     "text": [
      "\u001b[1m1317/1317\u001b[0m \u001b[32m━━━━━━━━━━━━━━━━━━━━\u001b[0m\u001b[37m\u001b[0m \u001b[1m367s\u001b[0m 277ms/step - accuracy: 0.5633 - loss: 1.0681 - val_accuracy: 0.6815 - val_loss: 0.7792\n",
      "Epoch 2/5\n",
      "\u001b[1m1317/1317\u001b[0m \u001b[32m━━━━━━━━━━━━━━━━━━━━\u001b[0m\u001b[37m\u001b[0m \u001b[1m354s\u001b[0m 269ms/step - accuracy: 0.7184 - loss: 0.7070 - val_accuracy: 0.7356 - val_loss: 0.6930\n",
      "Epoch 3/5\n",
      "\u001b[1m1317/1317\u001b[0m \u001b[32m━━━━━━━━━━━━━━━━━━━━\u001b[0m\u001b[37m\u001b[0m \u001b[1m341s\u001b[0m 259ms/step - accuracy: 0.7914 - loss: 0.5519 - val_accuracy: 0.7646 - val_loss: 0.5986\n",
      "Epoch 4/5\n",
      "\u001b[1m1317/1317\u001b[0m \u001b[32m━━━━━━━━━━━━━━━━━━━━\u001b[0m\u001b[37m\u001b[0m \u001b[1m950s\u001b[0m 722ms/step - accuracy: 0.8309 - loss: 0.4538 - val_accuracy: 0.7724 - val_loss: 0.5960\n",
      "Epoch 5/5\n",
      "\u001b[1m1317/1317\u001b[0m \u001b[32m━━━━━━━━━━━━━━━━━━━━\u001b[0m\u001b[37m\u001b[0m \u001b[1m991s\u001b[0m 753ms/step - accuracy: 0.8535 - loss: 0.3888 - val_accuracy: 0.7736 - val_loss: 0.6220\n"
     ]
    },
    {
     "data": {
      "text/plain": [
       "<keras.src.callbacks.history.History at 0x3a1305ee0>"
      ]
     },
     "execution_count": 33,
     "metadata": {},
     "output_type": "execute_result"
    }
   ],
   "source": [
    "model = Sequential([\n",
    "    Embedding(vocab_size, embedding_dim, input_length=max_length),\n",
    "    LSTM(128, return_sequences=True),\n",
    "    LSTM(64),\n",
    "    Dense(32, activation=\"relu\"),\n",
    "    Dense(7, activation=\"softmax\")  \n",
    "])\n",
    "\n",
    "model.compile(optimizer='adam', loss='categorical_crossentropy', metrics=['accuracy'])\n",
    "model.fit(X_train_seq, y_train_onehot, epochs=5, batch_size=32, validation_data=(X_test_seq, y_test_onehot))"
   ]
  },
  {
   "cell_type": "code",
   "execution_count": null,
   "id": "ab689d19-182e-4782-a028-834b20e60cd2",
   "metadata": {},
   "outputs": [],
   "source": []
  },
  {
   "cell_type": "code",
   "execution_count": null,
   "id": "f6223d47-530e-465f-b3ee-ac1639664f47",
   "metadata": {},
   "outputs": [],
   "source": []
  },
  {
   "cell_type": "code",
   "execution_count": null,
   "id": "cdf3e6d0-eca2-44c1-bb51-6484a95726c2",
   "metadata": {},
   "outputs": [],
   "source": []
  },
  {
   "cell_type": "markdown",
   "id": "5d18b05a-d8b2-4842-be71-c71aa479131a",
   "metadata": {},
   "source": [
    "### Evaluate the model"
   ]
  },
  {
   "cell_type": "code",
   "execution_count": 34,
   "id": "1f571333-276b-4765-8217-bcedb46fad79",
   "metadata": {},
   "outputs": [
    {
     "name": "stdout",
     "output_type": "stream",
     "text": [
      "\u001b[1m330/330\u001b[0m \u001b[32m━━━━━━━━━━━━━━━━━━━━\u001b[0m\u001b[37m\u001b[0m \u001b[1m32s\u001b[0m 97ms/step - accuracy: 0.7758 - loss: 0.6178\n",
      "Test Accuracy: 0.77\n"
     ]
    }
   ],
   "source": [
    "loss, acc = model.evaluate(X_test_seq, y_test_onehot)\n",
    "print(f\"Test Accuracy: {acc:.2f}\")"
   ]
  },
  {
   "cell_type": "code",
   "execution_count": 35,
   "id": "25a8a41d-8f99-478e-b726-3e4ee8c60b48",
   "metadata": {},
   "outputs": [
    {
     "name": "stdout",
     "output_type": "stream",
     "text": [
      "\u001b[1m330/330\u001b[0m \u001b[32m━━━━━━━━━━━━━━━━━━━━\u001b[0m\u001b[37m\u001b[0m \u001b[1m29s\u001b[0m 86ms/step\n"
     ]
    }
   ],
   "source": [
    "y_pred_prob = model.predict(X_test_seq)\n",
    "y_pred = np.argmax(y_pred_prob, axis=1)\n",
    "y_true = np.argmax(y_test_onehot, axis=1)"
   ]
  },
  {
   "cell_type": "code",
   "execution_count": 37,
   "id": "cd4ff82a-e245-49cf-b88e-f95b82183ab6",
   "metadata": {},
   "outputs": [
    {
     "name": "stdout",
     "output_type": "stream",
     "text": [
      "                      precision    recall  f1-score   support\n",
      "\n",
      "              Normal       0.85      0.78      0.81       755\n",
      "             Anxiety       0.81      0.83      0.82       527\n",
      "          Depression       0.73      0.73      0.73      3016\n",
      "            Suicidal       0.91      0.92      0.92      3308\n",
      "              Stress       0.80      0.58      0.67       237\n",
      "             Bipolar       0.55      0.62      0.58       536\n",
      "Personality disorder       0.66      0.64      0.65      2158\n",
      "\n",
      "            accuracy                           0.77     10537\n",
      "           macro avg       0.76      0.73      0.74     10537\n",
      "        weighted avg       0.77      0.77      0.77     10537\n",
      "\n"
     ]
    }
   ],
   "source": [
    "label_names = ['Normal', 'Anxiety', 'Depression', 'Suicidal', 'Stress', 'Bipolar', 'Personality disorder']\n",
    "\n",
    "report = classification_report(y_true, y_pred, target_names=label_names)\n",
    "print(report)"
   ]
  },
  {
   "cell_type": "code",
   "execution_count": 40,
   "id": "4bf41f1a-b5b3-4c3e-995f-e779040d7f67",
   "metadata": {},
   "outputs": [
    {
     "data": {
      "image/png": "[encoded data removed]",
      "text/plain": [
       "<Figure size 1000x600 with 1 Axes>"
      ]
     },
     "metadata": {},
     "output_type": "display_data"
    }
   ],
   "source": [
    "classes = ['Anxiety', 'Bipolar', 'Depression', 'Normal', 'Personality disorder', 'Stress', 'Suicidal']\n",
    "precision = [0.81, 0.55, 0.73, 0.85, 0.66, 0.80, 0.91]\n",
    "recall    = [0.83, 0.62, 0.73, 0.78, 0.64, 0.58, 0.92]\n",
    "f1_score  = [0.82, 0.58, 0.73, 0.81, 0.65, 0.67, 0.92]\n",
    "\n",
    "x = np.arange(len(classes))\n",
    "width = 0.2  \n",
    "\n",
    "plt.figure(figsize=(10, 6))\n",
    "plt.bar(x - width, precision, width, label='Precision')\n",
    "plt.bar(x, recall, width, label='Recall')\n",
    "plt.bar(x + width, f1_score, width, label='F1 Score')\n",
    "\n",
    "plt.ylabel('Score')\n",
    "plt.xlabel('Classes')\n",
    "plt.title('Classification Report (LSTM)')\n",
    "plt.xticks(x, classes)\n",
    "plt.ylim(0, 1)\n",
    "plt.legend()\n",
    "plt.tight_layout()"
   ]
  }
 ],
 "metadata": {
  "kernelspec": {
   "display_name": "Python 3 (ipykernel)",
   "language": "python",
   "name": "python3"
  },
  "language_info": {
   "codemirror_mode": {
    "name": "ipython",
    "version": 3
   },
   "file_extension": ".py",
   "mimetype": "text/x-python",
   "name": "python",
   "nbconvert_exporter": "python",
   "pygments_lexer": "ipython3",
   "version": "3.12.7"
  }
 },
 "nbformat": 4,
 "nbformat_minor": 5
}
